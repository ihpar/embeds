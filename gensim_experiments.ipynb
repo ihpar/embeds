{
 "cells": [
  {
   "cell_type": "code",
   "execution_count": 10,
   "metadata": {},
   "outputs": [],
   "source": [
    "from reader_utils.corpus_builder_utils import *\n",
    "from note_utils.pitch_dictionary import PitchDictionary\n",
    "from reader_utils.dataset_builder import DatasetBuilder\n",
    "from model_utils.model_utils import *\n",
    "from gensim.models import Word2Vec\n",
    "import sys"
   ]
  },
  {
   "cell_type": "code",
   "execution_count": 37,
   "metadata": {},
   "outputs": [],
   "source": [
    "pd = PitchDictionary(\"dataset_objects/pitches_dict.txt\")\n",
    "db = DatasetBuilder(\"dataset_objects/full_corpus\")"
   ]
  },
  {
   "cell_type": "code",
   "execution_count": 38,
   "metadata": {},
   "outputs": [],
   "source": [
    "corpus = db.get_full_corpus()"
   ]
  },
  {
   "cell_type": "code",
   "execution_count": 39,
   "metadata": {},
   "outputs": [],
   "source": [
    "model = Word2Vec(sentences=corpus)"
   ]
  },
  {
   "cell_type": "code",
   "execution_count": 50,
   "metadata": {},
   "outputs": [
    {
     "data": {
      "text/plain": [
       "(97, 100)"
      ]
     },
     "execution_count": 50,
     "metadata": {},
     "output_type": "execute_result"
    }
   ],
   "source": [
    "model.wv.vectors.shape"
   ]
  },
  {
   "cell_type": "code",
   "execution_count": 44,
   "metadata": {},
   "outputs": [
    {
     "data": {
      "text/plain": [
       "array([-0.48701134,  0.3442218 , -0.10758539,  0.38789842,  0.27720985,\n",
       "        0.41124162,  0.21296522, -0.12116624,  0.26420543,  0.87339765,\n",
       "       -0.04774322, -0.15725313, -0.646546  , -0.7264925 ,  0.17572235,\n",
       "        0.54811716, -0.1514493 ,  0.39861238,  0.62949514,  0.17051513,\n",
       "       -0.42509228, -0.67975026,  0.5506778 ,  0.20110051,  0.29757723,\n",
       "        0.2635047 , -0.30519208, -0.413971  ,  0.49162084, -0.24757288,\n",
       "       -0.04880887, -0.24799462,  0.9891649 ,  0.8349467 , -0.16337472,\n",
       "       -0.5024666 ,  0.0922959 ,  0.9745817 ,  0.584481  , -0.02430805,\n",
       "        0.15511991,  0.20499532, -0.6922036 ,  0.7483187 , -0.2631754 ,\n",
       "       -0.09096068,  0.09096989,  0.33573863, -0.7116661 ,  0.26893526,\n",
       "       -0.5065608 , -0.28735808,  0.81473607,  0.4100737 , -0.7212877 ,\n",
       "        0.0072567 , -0.17286472, -0.5089681 ,  0.41504303,  0.92051   ,\n",
       "       -0.09719511,  0.01589106, -0.13230626,  0.07398205, -0.02729131,\n",
       "       -0.38641903,  1.1385309 ,  1.3245984 ,  1.024494  ,  0.25674656,\n",
       "        0.18630841,  0.70284873, -0.18880992,  0.3588925 ,  0.83352375,\n",
       "        0.5071314 ,  0.18000747,  0.01496287,  0.69532156, -1.1280086 ,\n",
       "        0.61210907, -0.8358966 ,  1.5259442 , -0.3639938 ,  0.05220528,\n",
       "       -0.17472649,  0.10888353, -1.4063118 , -0.5670904 , -0.8664497 ,\n",
       "        0.05230632, -0.16749509, -0.33974692, -0.3976729 ,  0.5495635 ,\n",
       "        0.5426527 ,  0.53435713,  0.04454174,  0.32096767,  0.91484314],\n",
       "      dtype=float32)"
      ]
     },
     "execution_count": 44,
     "metadata": {},
     "output_type": "execute_result"
    }
   ],
   "source": [
    "model.wv[pd.get_int_from_str(\"la4\")]"
   ]
  },
  {
   "cell_type": "code",
   "execution_count": 48,
   "metadata": {},
   "outputs": [
    {
     "name": "stdout",
     "output_type": "stream",
     "text": [
      "word #0/97 is 56: re5\n",
      "word #1/97 is 47: do5\n",
      "word #2/97 is 63: mi5\n",
      "word #3/97 is 76: sol5\n",
      "word #4/97 is 35: la4\n",
      "word #5/97 is 67: fa5\n",
      "word #6/97 is 85: la5\n",
      "word #7/97 is 27: sol4\n",
      "word #8/97 is 1: es\n",
      "word #9/97 is 43: la4#8\n"
     ]
    }
   ],
   "source": [
    "for index, word in enumerate(model.wv.index_to_key):\n",
    "    if index == 10:\n",
    "        break\n",
    "    print(f\"word #{index}/{len(model.wv.index_to_key)} is {word}: {pd.get_str_from_int(word)}\")"
   ]
  },
  {
   "cell_type": "code",
   "execution_count": 41,
   "metadata": {},
   "outputs": [
    {
     "name": "stdout",
     "output_type": "stream",
     "text": [
      "sol4 27 0.6727856993675232\n",
      "re5 56 0.591621994972229\n",
      "es 1 0.590420126914978\n",
      "la4#5 40 0.5624260902404785\n",
      "mi5 63 0.4873325526714325\n",
      "si4 44 0.46857136487960815\n",
      "do5#4 51 0.4599350392818451\n",
      "do5 47 0.4478171467781067\n",
      "la4#7 42 0.421022891998291\n",
      "fa4#5 25 0.35001564025878906\n"
     ]
    }
   ],
   "source": [
    "similars = model.wv.most_similar(pd.get_int_from_str(\"la4\"), topn=10)\n",
    "for num, sim in similars:\n",
    "    print(pd.get_str_from_int(num), num, sim)"
   ]
  }
 ],
 "metadata": {
  "interpreter": {
   "hash": "a351261ad3a3045346a578e9ae6d5781d6723cb6b9d66353837c95bac922fda4"
  },
  "kernelspec": {
   "display_name": "Python 3.8.11 64-bit ('mlp': conda)",
   "name": "python3"
  },
  "language_info": {
   "codemirror_mode": {
    "name": "ipython",
    "version": 3
   },
   "file_extension": ".py",
   "mimetype": "text/x-python",
   "name": "python",
   "nbconvert_exporter": "python",
   "pygments_lexer": "ipython3",
   "version": "3.8.11"
  },
  "orig_nbformat": 4
 },
 "nbformat": 4,
 "nbformat_minor": 2
}
