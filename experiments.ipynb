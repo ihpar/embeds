{
 "cells": [
  {
   "cell_type": "code",
   "execution_count": 1,
   "metadata": {},
   "outputs": [
    {
     "name": "stdout",
     "output_type": "stream",
     "text": [
      "Init Plugin\n",
      "Init Graph Optimizer\n",
      "Init Kernel\n"
     ]
    }
   ],
   "source": [
    "from reader_utils.corpus_builder_utils import *\n",
    "from note_utils.pitch_dictionary import PitchDictionary\n",
    "from reader_utils.dataset_builder import DatasetBuilder\n",
    "from model_utils.model_utils import *\n",
    "import io"
   ]
  },
  {
   "cell_type": "code",
   "execution_count": 8,
   "metadata": {},
   "outputs": [],
   "source": [
    "pd = PitchDictionary(\"dataset_objects/pitches_dict.txt\")\n",
    "\n",
    "vocab_size = pd.get_vocabulary_size()\n",
    "window_size = 3\n",
    "num_ns = 5\n",
    "embedding_dim = 32\n",
    "embedding_layer_name = \"n2v_embedding\""
   ]
  },
  {
   "cell_type": "code",
   "execution_count": 9,
   "metadata": {},
   "outputs": [],
   "source": [
    "db = DatasetBuilder(\"dataset_objects/full_corpus\")"
   ]
  },
  {
   "cell_type": "code",
   "execution_count": 10,
   "metadata": {},
   "outputs": [
    {
     "name": "stderr",
     "output_type": "stream",
     "text": [
      "100%|██████████| 2200/2200 [1:05:32<00:00,  1.79s/it]\n"
     ]
    }
   ],
   "source": [
    "# takes around 66 mins\n",
    "dataset = db.build_word_to_vec_dataset(\n",
    "        vocab_size, window_size, num_ns, skip_amount=1)"
   ]
  },
  {
   "cell_type": "code",
   "execution_count": 13,
   "metadata": {},
   "outputs": [],
   "source": [
    "n2v = build_note_to_vec_model(\n",
    "        vocab_size, embedding_dim, num_ns, embedding_layer_name)"
   ]
  },
  {
   "cell_type": "code",
   "execution_count": 14,
   "metadata": {},
   "outputs": [
    {
     "name": "stdout",
     "output_type": "stream",
     "text": [
      "Epoch 1/20\n",
      "  18/5136 [..............................] - ETA: 33s - loss: 1.7867 - accuracy: 0.4789"
     ]
    },
    {
     "name": "stderr",
     "output_type": "stream",
     "text": [
      "2021-10-12 17:04:48.371492: I tensorflow/core/grappler/optimizers/custom_graph_optimizer_registry.cc:112] Plugin optimizer for device_type GPU is enabled.\n"
     ]
    },
    {
     "name": "stdout",
     "output_type": "stream",
     "text": [
      "5136/5136 [==============================] - 35s 7ms/step - loss: 0.3132 - accuracy: 0.9035\n",
      "Epoch 2/20\n",
      "5136/5136 [==============================] - 32s 6ms/step - loss: 0.2453 - accuracy: 0.9148\n",
      "Epoch 3/20\n",
      "5136/5136 [==============================] - 32s 6ms/step - loss: 0.2428 - accuracy: 0.9155\n",
      "Epoch 4/20\n",
      "1676/5136 [========>.....................] - ETA: 22s - loss: 0.2373 - accuracy: 0.9172"
     ]
    }
   ],
   "source": [
    "# takes around 10 mins\n",
    "n2v.fit(dataset, epochs=20)"
   ]
  },
  {
   "cell_type": "code",
   "execution_count": 6,
   "metadata": {},
   "outputs": [],
   "source": [
    "vocab = pd.get_vocabulary()\n",
    "weights = n2v.get_layer(embedding_layer_name).get_weights()[0]"
   ]
  },
  {
   "cell_type": "code",
   "execution_count": 7,
   "metadata": {},
   "outputs": [],
   "source": [
    "vectors_file = io.open('vectors_32.tsv', 'w', encoding='utf-8')\n",
    "metadata_file = io.open('metadata_32.tsv', 'w', encoding='utf-8')\n",
    "\n",
    "for index, word in enumerate(vocab):\n",
    "    vec = weights[index]\n",
    "    vectors_file.write('\\t'.join([str(x) for x in vec]) + \"\\n\")\n",
    "    metadata_file.write(word + \"\\n\")\n",
    "\n",
    "vectors_file.close()\n",
    "metadata_file.close()"
   ]
  },
  {
   "cell_type": "code",
   "execution_count": null,
   "metadata": {},
   "outputs": [],
   "source": []
  }
 ],
 "metadata": {
  "interpreter": {
   "hash": "b25c72524e0bc61a78b3d6a2df84de3adaea47dfccaeebc487f09611983c18d9"
  },
  "kernelspec": {
   "display_name": "Python 3.8.10 64-bit ('mlp': conda)",
   "name": "python3"
  },
  "language_info": {
   "codemirror_mode": {
    "name": "ipython",
    "version": 3
   },
   "file_extension": ".py",
   "mimetype": "text/x-python",
   "name": "python",
   "nbconvert_exporter": "python",
   "pygments_lexer": "ipython3",
   "version": "3.8.10"
  },
  "orig_nbformat": 4
 },
 "nbformat": 4,
 "nbformat_minor": 2
}
