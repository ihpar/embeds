{
 "cells": [
  {
   "cell_type": "code",
   "execution_count": 1,
   "metadata": {},
   "outputs": [],
   "source": [
    "from reader_utils.corpus_builder_utils import *\n",
    "from note_utils.pitch_dictionary import PitchDictionary\n",
    "from reader_utils.dataset_builder import DatasetBuilder\n",
    "from model_utils.model_utils import *\n",
    "import io"
   ]
  },
  {
   "cell_type": "code",
   "execution_count": 17,
   "metadata": {},
   "outputs": [],
   "source": [
    "pd = PitchDictionary(\"dataset_objects/pitches_dict.txt\")\n",
    "\n",
    "vocab_size = pd.get_vocabulary_size()\n",
    "window_size = 2 # 2, 4\n",
    "num_ns = 10 # 2, 5, 10\n",
    "embedding_layer_name = \"n2v_embedding\""
   ]
  },
  {
   "cell_type": "code",
   "execution_count": 18,
   "metadata": {},
   "outputs": [],
   "source": [
    "db = DatasetBuilder(\"dataset_objects/full_corpus\")"
   ]
  },
  {
   "cell_type": "code",
   "execution_count": 19,
   "metadata": {},
   "outputs": [
    {
     "name": "stderr",
     "output_type": "stream",
     "text": [
      "100%|██████████| 2200/2200 [15:09<00:00,  2.42it/s]\n"
     ]
    }
   ],
   "source": [
    "# takes around 24 mins for window_size = 2, num_ns = 2\n",
    "# takes around 25 mins for window_size = 2, num_ns = 10\n",
    "dataset = db.build_word_to_vec_dataset(\n",
    "        vocab_size, window_size, num_ns, skip_amount=1)"
   ]
  },
  {
   "cell_type": "code",
   "execution_count": 20,
   "metadata": {},
   "outputs": [],
   "source": [
    "embedding_dim = 16\n",
    "\n",
    "n2v = build_note_to_vec_model(\n",
    "        vocab_size, embedding_dim, num_ns, embedding_layer_name)"
   ]
  },
  {
   "cell_type": "code",
   "execution_count": 21,
   "metadata": {},
   "outputs": [
    {
     "name": "stdout",
     "output_type": "stream",
     "text": [
      "Epoch 1/20\n",
      "3428/3428 [==============================] - 20s 6ms/step - loss: 0.6614 - accuracy: 0.8047\n",
      "Epoch 2/20\n",
      "3428/3428 [==============================] - 13s 4ms/step - loss: 0.4669 - accuracy: 0.8405\n",
      "Epoch 3/20\n",
      "3428/3428 [==============================] - 13s 4ms/step - loss: 0.4466 - accuracy: 0.8466\n",
      "Epoch 4/20\n",
      "3428/3428 [==============================] - 13s 4ms/step - loss: 0.4412 - accuracy: 0.8482\n",
      "Epoch 5/20\n",
      "3428/3428 [==============================] - 13s 4ms/step - loss: 0.4392 - accuracy: 0.8488\n",
      "Epoch 6/20\n",
      "3428/3428 [==============================] - 13s 4ms/step - loss: 0.4385 - accuracy: 0.8489\n",
      "Epoch 7/20\n",
      "3428/3428 [==============================] - 13s 4ms/step - loss: 0.4383 - accuracy: 0.8489\n",
      "Epoch 8/20\n",
      "3428/3428 [==============================] - 13s 4ms/step - loss: 0.4383 - accuracy: 0.8489\n",
      "Epoch 9/20\n",
      "3428/3428 [==============================] - 13s 4ms/step - loss: 0.4381 - accuracy: 0.8489\n",
      "Epoch 10/20\n",
      "3428/3428 [==============================] - 14s 4ms/step - loss: 0.4379 - accuracy: 0.8490\n",
      "Epoch 11/20\n",
      "3428/3428 [==============================] - 13s 4ms/step - loss: 0.4377 - accuracy: 0.8491\n",
      "Epoch 12/20\n",
      "3428/3428 [==============================] - 12s 4ms/step - loss: 0.4377 - accuracy: 0.8492\n",
      "Epoch 13/20\n",
      "3428/3428 [==============================] - 14s 4ms/step - loss: 0.4377 - accuracy: 0.8492\n",
      "Epoch 14/20\n",
      "3428/3428 [==============================] - 12s 4ms/step - loss: 0.4376 - accuracy: 0.8492\n",
      "Epoch 15/20\n",
      "3428/3428 [==============================] - 13s 4ms/step - loss: 0.4375 - accuracy: 0.8493\n",
      "Epoch 16/20\n",
      "3428/3428 [==============================] - 12s 4ms/step - loss: 0.4374 - accuracy: 0.8493\n",
      "Epoch 17/20\n",
      "3428/3428 [==============================] - 13s 4ms/step - loss: 0.4373 - accuracy: 0.8493\n",
      "Epoch 18/20\n",
      "3428/3428 [==============================] - 13s 4ms/step - loss: 0.4373 - accuracy: 0.8494\n",
      "Epoch 19/20\n",
      "3428/3428 [==============================] - 13s 4ms/step - loss: 0.4373 - accuracy: 0.8494\n",
      "Epoch 20/20\n",
      "3428/3428 [==============================] - 13s 4ms/step - loss: 0.4373 - accuracy: 0.8494\n"
     ]
    },
    {
     "data": {
      "text/plain": [
       "<keras.callbacks.History at 0x2657d426490>"
      ]
     },
     "execution_count": 21,
     "metadata": {},
     "output_type": "execute_result"
    }
   ],
   "source": [
    "# takes around 5 mins for embedding_dim = 16, window_size = 2, \n",
    "# num_ns = 10, epochs = 20\n",
    "epochs = 20\n",
    "n2v.fit(dataset, epochs=epochs)"
   ]
  },
  {
   "cell_type": "code",
   "execution_count": 22,
   "metadata": {},
   "outputs": [],
   "source": [
    "vocab = pd.get_vocabulary()\n",
    "weights = n2v.get_layer(embedding_layer_name).get_weights()[0]"
   ]
  },
  {
   "cell_type": "code",
   "execution_count": 23,
   "metadata": {},
   "outputs": [],
   "source": [
    "file_suffix = \"ws\" + str(window_size) + \"_ns\" + str(num_ns) + \\\n",
    "        \"_ed\" + str(embedding_dim) + \"_ep\" + str(epochs)\n",
    "vactors_file_name = \"vectors_\" + file_suffix + \".tsv\"\n",
    "metadata_file_name = \"metadata_\" + file_suffix + \".tsv\"\n",
    "\n",
    "vectors_file = io.open(vactors_file_name, 'w', encoding='utf-8')\n",
    "metadata_file = io.open(metadata_file_name, 'w', encoding='utf-8')\n",
    "\n",
    "for index, word in enumerate(vocab):\n",
    "    if index in [0, 1]: # <unk> and es\n",
    "        continue\n",
    "    vec = weights[index]\n",
    "    vectors_file.write('\\t'.join([str(x) for x in vec]) + \"\\n\")\n",
    "    metadata_file.write(word + \"\\n\")\n",
    "\n",
    "vectors_file.close()\n",
    "metadata_file.close()"
   ]
  },
  {
   "cell_type": "code",
   "execution_count": null,
   "metadata": {},
   "outputs": [],
   "source": []
  }
 ],
 "metadata": {
  "interpreter": {
   "hash": "a351261ad3a3045346a578e9ae6d5781d6723cb6b9d66353837c95bac922fda4"
  },
  "kernelspec": {
   "display_name": "Python 3.8.11 64-bit ('mlp': conda)",
   "name": "python3"
  },
  "language_info": {
   "codemirror_mode": {
    "name": "ipython",
    "version": 3
   },
   "file_extension": ".py",
   "mimetype": "text/x-python",
   "name": "python",
   "nbconvert_exporter": "python",
   "pygments_lexer": "ipython3",
   "version": "3.8.11"
  },
  "orig_nbformat": 4
 },
 "nbformat": 4,
 "nbformat_minor": 2
}
