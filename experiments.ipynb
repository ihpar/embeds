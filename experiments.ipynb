{
 "cells": [
  {
   "cell_type": "code",
   "execution_count": 1,
   "metadata": {},
   "outputs": [],
   "source": [
    "from reader_utils.corpus_builder_utils import *\n",
    "from note_utils.pitch_dictionary import PitchDictionary\n",
    "from reader_utils.dataset_builder import DatasetBuilder\n",
    "from model_utils.model_utils import *\n",
    "import io"
   ]
  },
  {
   "cell_type": "code",
   "execution_count": 2,
   "metadata": {},
   "outputs": [],
   "source": [
    "pd = PitchDictionary(\"dataset_objects/pitches_dict.txt\")\n",
    "\n",
    "vocab_size = pd.get_vocabulary_size()\n",
    "window_size = 3\n",
    "num_ns = 10\n",
    "embedding_layer_name = \"n2v_embedding\""
   ]
  },
  {
   "cell_type": "code",
   "execution_count": 3,
   "metadata": {},
   "outputs": [],
   "source": [
    "db = DatasetBuilder(\"dataset_objects/full_corpus\")"
   ]
  },
  {
   "cell_type": "code",
   "execution_count": 4,
   "metadata": {},
   "outputs": [
    {
     "name": "stderr",
     "output_type": "stream",
     "text": [
      "100%|██████████| 2200/2200 [23:04<00:00,  1.59it/s]\n"
     ]
    }
   ],
   "source": [
    "# takes around 66 mins for window_size = 3, num_ns = 5\n",
    "dataset = db.build_word_to_vec_dataset(\n",
    "        vocab_size, window_size, num_ns, skip_amount=1)"
   ]
  },
  {
   "cell_type": "code",
   "execution_count": 14,
   "metadata": {},
   "outputs": [],
   "source": [
    "embedding_dim = 16\n",
    "\n",
    "n2v = build_note_to_vec_model(\n",
    "        vocab_size, embedding_dim, num_ns, embedding_layer_name)"
   ]
  },
  {
   "cell_type": "code",
   "execution_count": 15,
   "metadata": {},
   "outputs": [
    {
     "name": "stdout",
     "output_type": "stream",
     "text": [
      "Epoch 1/20\n",
      "5136/5136 [==============================] - 19s 4ms/step - loss: 0.6175 - accuracy: 0.8060\n",
      "Epoch 2/20\n",
      "5136/5136 [==============================] - 18s 4ms/step - loss: 0.4785 - accuracy: 0.8343\n",
      "Epoch 3/20\n",
      "5136/5136 [==============================] - 18s 4ms/step - loss: 0.4695 - accuracy: 0.8372\n",
      "Epoch 4/20\n",
      "5136/5136 [==============================] - 16s 3ms/step - loss: 0.4676 - accuracy: 0.8378\n",
      "Epoch 5/20\n",
      "5136/5136 [==============================] - 17s 3ms/step - loss: 0.4666 - accuracy: 0.8382\n",
      "Epoch 6/20\n",
      "5136/5136 [==============================] - 17s 3ms/step - loss: 0.4658 - accuracy: 0.8384\n",
      "Epoch 7/20\n",
      "5136/5136 [==============================] - 17s 3ms/step - loss: 0.4655 - accuracy: 0.8385\n",
      "Epoch 8/20\n",
      "5136/5136 [==============================] - 19s 4ms/step - loss: 0.4654 - accuracy: 0.8386\n",
      "Epoch 9/20\n",
      "5136/5136 [==============================] - 17s 3ms/step - loss: 0.4654 - accuracy: 0.8386\n",
      "Epoch 10/20\n",
      "5136/5136 [==============================] - 16s 3ms/step - loss: 0.4654 - accuracy: 0.8386\n",
      "Epoch 11/20\n",
      "5136/5136 [==============================] - 16s 3ms/step - loss: 0.4652 - accuracy: 0.8387\n",
      "Epoch 12/20\n",
      "5136/5136 [==============================] - 16s 3ms/step - loss: 0.4651 - accuracy: 0.8387\n",
      "Epoch 13/20\n",
      "5136/5136 [==============================] - 16s 3ms/step - loss: 0.4649 - accuracy: 0.8388\n",
      "Epoch 14/20\n",
      "5136/5136 [==============================] - 16s 3ms/step - loss: 0.4646 - accuracy: 0.8388\n",
      "Epoch 15/20\n",
      "5136/5136 [==============================] - 16s 3ms/step - loss: 0.4648 - accuracy: 0.8388\n",
      "Epoch 16/20\n",
      "5136/5136 [==============================] - 19s 4ms/step - loss: 0.4649 - accuracy: 0.8388\n",
      "Epoch 17/20\n",
      "5136/5136 [==============================] - 18s 4ms/step - loss: 0.4646 - accuracy: 0.8390\n",
      "Epoch 18/20\n",
      "5136/5136 [==============================] - 19s 4ms/step - loss: 0.4648 - accuracy: 0.8389\n",
      "Epoch 19/20\n",
      "5136/5136 [==============================] - 18s 4ms/step - loss: 0.4651 - accuracy: 0.8389\n",
      "Epoch 20/20\n",
      "5136/5136 [==============================] - 18s 4ms/step - loss: 0.4650 - accuracy: 0.8389\n"
     ]
    },
    {
     "data": {
      "text/plain": [
       "<keras.callbacks.History at 0x20f1e32ddf0>"
      ]
     },
     "execution_count": 15,
     "metadata": {},
     "output_type": "execute_result"
    }
   ],
   "source": [
    "# takes around 11 mins for embedding_dim = 32\n",
    "epochs = 20\n",
    "n2v.fit(dataset, epochs=epochs)"
   ]
  },
  {
   "cell_type": "code",
   "execution_count": 16,
   "metadata": {},
   "outputs": [],
   "source": [
    "vocab = pd.get_vocabulary()\n",
    "weights = n2v.get_layer(embedding_layer_name).get_weights()[0]"
   ]
  },
  {
   "cell_type": "code",
   "execution_count": 17,
   "metadata": {},
   "outputs": [],
   "source": [
    "file_suffix = \"ws\" + str(window_size) + \"_ns\" + str(num_ns) + \\\n",
    "        \"_ed\" + str(embedding_dim) + \"_ep\" + str(epochs)\n",
    "vactors_file_name = \"vectors_\" + file_suffix + \".tsv\"\n",
    "metadata_file_name = \"metadata_\" + file_suffix + \".tsv\"\n",
    "\n",
    "vectors_file = io.open(vactors_file_name, 'w', encoding='utf-8')\n",
    "metadata_file = io.open(metadata_file_name, 'w', encoding='utf-8')\n",
    "\n",
    "for index, word in enumerate(vocab):\n",
    "    if index in [0, 1]: # <unk> and es\n",
    "        continue\n",
    "    vec = weights[index]\n",
    "    vectors_file.write('\\t'.join([str(x) for x in vec]) + \"\\n\")\n",
    "    metadata_file.write(word + \"\\n\")\n",
    "\n",
    "vectors_file.close()\n",
    "metadata_file.close()"
   ]
  },
  {
   "cell_type": "code",
   "execution_count": null,
   "metadata": {},
   "outputs": [],
   "source": []
  }
 ],
 "metadata": {
  "interpreter": {
   "hash": "a351261ad3a3045346a578e9ae6d5781d6723cb6b9d66353837c95bac922fda4"
  },
  "kernelspec": {
   "display_name": "Python 3.8.11 64-bit ('mlp': conda)",
   "name": "python3"
  },
  "language_info": {
   "codemirror_mode": {
    "name": "ipython",
    "version": 3
   },
   "file_extension": ".py",
   "mimetype": "text/x-python",
   "name": "python",
   "nbconvert_exporter": "python",
   "pygments_lexer": "ipython3",
   "version": "3.8.11"
  },
  "orig_nbformat": 4
 },
 "nbformat": 4,
 "nbformat_minor": 2
}
