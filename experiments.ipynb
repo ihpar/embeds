{
 "cells": [
  {
   "cell_type": "code",
   "execution_count": 1,
   "metadata": {},
   "outputs": [
    {
     "name": "stdout",
     "output_type": "stream",
     "text": [
      "Init Plugin\n",
      "Init Graph Optimizer\n",
      "Init Kernel\n"
     ]
    }
   ],
   "source": [
    "from reader_utils.corpus_builder_utils import *\n",
    "from note_utils.pitch_dictionary import PitchDictionary\n",
    "from reader_utils.dataset_builder import DatasetBuilder\n",
    "from model_utils.model_utils import *\n",
    "import io"
   ]
  },
  {
   "cell_type": "code",
   "execution_count": 2,
   "metadata": {},
   "outputs": [],
   "source": [
    "pd = PitchDictionary(\"dataset_objects/pitches_dict.txt\")\n",
    "\n",
    "vocab_size = pd.get_vocabulary_size()\n",
    "window_size = 4\n",
    "num_ns = 5\n",
    "embedding_dim = 32\n",
    "embedding_layer_name = \"n2v_embedding\"\n",
    "\n",
    "db = DatasetBuilder(\"dataset_objects/full_corpus\")"
   ]
  },
  {
   "cell_type": "code",
   "execution_count": 3,
   "metadata": {},
   "outputs": [
    {
     "name": "stderr",
     "output_type": "stream",
     "text": [
      "  0%|          | 0/220 [00:00<?, ?it/s]2021-10-12 15:35:30.691236: I tensorflow/core/common_runtime/pluggable_device/pluggable_device_factory.cc:305] Could not identify NUMA node of platform GPU ID 0, defaulting to 0. Your kernel may not have been built with NUMA support.\n",
      "2021-10-12 15:35:30.691393: I tensorflow/core/common_runtime/pluggable_device/pluggable_device_factory.cc:271] Created TensorFlow device (/job:localhost/replica:0/task:0/device:GPU:0 with 0 MB memory) -> physical PluggableDevice (device: 0, name: METAL, pci bus id: <undefined>)\n"
     ]
    },
    {
     "name": "stdout",
     "output_type": "stream",
     "text": [
      "Metal device set to: Apple M1\n"
     ]
    },
    {
     "name": "stderr",
     "output_type": "stream",
     "text": [
      "100%|██████████| 220/220 [09:07<00:00,  2.49s/it]\n"
     ]
    }
   ],
   "source": [
    "dataset = db.build_word_to_vec_dataset(\n",
    "        vocab_size, window_size, num_ns, skip_amount=10)"
   ]
  },
  {
   "cell_type": "code",
   "execution_count": 4,
   "metadata": {},
   "outputs": [],
   "source": [
    "n2v = build_note_to_vec_model(\n",
    "        vocab_size, embedding_dim, num_ns, embedding_layer_name)"
   ]
  },
  {
   "cell_type": "code",
   "execution_count": 5,
   "metadata": {},
   "outputs": [
    {
     "name": "stdout",
     "output_type": "stream",
     "text": [
      "Epoch 1/20\n",
      " 17/709 [..............................] - ETA: 4s - loss: 1.7867 - accuracy: 0.4360"
     ]
    },
    {
     "name": "stderr",
     "output_type": "stream",
     "text": [
      "2021-10-12 15:45:35.583820: I tensorflow/compiler/mlir/mlir_graph_optimization_pass.cc:176] None of the MLIR Optimization Passes are enabled (registered 2)\n",
      "2021-10-12 15:45:35.585072: W tensorflow/core/platform/profile_utils/cpu_utils.cc:128] Failed to get CPU frequency: 0 Hz\n",
      "2021-10-12 15:45:35.585136: I tensorflow/core/grappler/optimizers/custom_graph_optimizer_registry.cc:112] Plugin optimizer for device_type GPU is enabled.\n"
     ]
    },
    {
     "name": "stdout",
     "output_type": "stream",
     "text": [
      "709/709 [==============================] - 5s 6ms/step - loss: 0.6982 - accuracy: 0.8333\n",
      "Epoch 2/20\n",
      "709/709 [==============================] - 4s 6ms/step - loss: 0.3674 - accuracy: 0.8687\n",
      "Epoch 3/20\n",
      "709/709 [==============================] - 5s 7ms/step - loss: 0.3311 - accuracy: 0.8816\n",
      "Epoch 4/20\n",
      "709/709 [==============================] - 5s 7ms/step - loss: 0.3182 - accuracy: 0.8863\n",
      "Epoch 5/20\n",
      "709/709 [==============================] - 5s 6ms/step - loss: 0.3086 - accuracy: 0.8896\n",
      "Epoch 6/20\n",
      "709/709 [==============================] - 5s 6ms/step - loss: 0.3008 - accuracy: 0.8923\n",
      "Epoch 7/20\n",
      "709/709 [==============================] - 5s 7ms/step - loss: 0.2956 - accuracy: 0.8946\n",
      "Epoch 8/20\n",
      "709/709 [==============================] - 4s 6ms/step - loss: 0.2921 - accuracy: 0.8959\n",
      "Epoch 9/20\n",
      "709/709 [==============================] - 5s 7ms/step - loss: 0.2895 - accuracy: 0.8967\n",
      "Epoch 10/20\n",
      "709/709 [==============================] - 5s 6ms/step - loss: 0.2876 - accuracy: 0.8972\n",
      "Epoch 11/20\n",
      "709/709 [==============================] - 5s 6ms/step - loss: 0.2863 - accuracy: 0.8975\n",
      "Epoch 12/20\n",
      "709/709 [==============================] - 5s 7ms/step - loss: 0.2852 - accuracy: 0.8978\n",
      "Epoch 13/20\n",
      "709/709 [==============================] - 5s 7ms/step - loss: 0.2844 - accuracy: 0.8980\n",
      "Epoch 14/20\n",
      "709/709 [==============================] - 5s 7ms/step - loss: 0.2838 - accuracy: 0.8982\n",
      "Epoch 15/20\n",
      "709/709 [==============================] - 5s 7ms/step - loss: 0.2833 - accuracy: 0.8984\n",
      "Epoch 16/20\n",
      "709/709 [==============================] - 5s 6ms/step - loss: 0.2829 - accuracy: 0.8984\n",
      "Epoch 17/20\n",
      "709/709 [==============================] - 4s 6ms/step - loss: 0.2826 - accuracy: 0.8985\n",
      "Epoch 18/20\n",
      "709/709 [==============================] - 4s 6ms/step - loss: 0.2823 - accuracy: 0.8986\n",
      "Epoch 19/20\n",
      "709/709 [==============================] - 4s 6ms/step - loss: 0.2821 - accuracy: 0.8987\n",
      "Epoch 20/20\n",
      "709/709 [==============================] - 4s 6ms/step - loss: 0.2819 - accuracy: 0.8988\n"
     ]
    },
    {
     "data": {
      "text/plain": [
       "<tensorflow.python.keras.callbacks.History at 0x165a89610>"
      ]
     },
     "execution_count": 5,
     "metadata": {},
     "output_type": "execute_result"
    }
   ],
   "source": [
    "n2v.fit(dataset, epochs=20)"
   ]
  },
  {
   "cell_type": "code",
   "execution_count": 6,
   "metadata": {},
   "outputs": [],
   "source": [
    "vocab = pd.get_vocabulary()\n",
    "weights = n2v.get_layer(embedding_layer_name).get_weights()[0]"
   ]
  },
  {
   "cell_type": "code",
   "execution_count": 7,
   "metadata": {},
   "outputs": [],
   "source": [
    "vectors_file = io.open('vectors.tsv', 'w', encoding='utf-8')\n",
    "metadata_file = io.open('metadata.tsv', 'w', encoding='utf-8')\n",
    "\n",
    "for index, word in enumerate(vocab):\n",
    "    if index == 0: # skip <unk>\n",
    "        continue\n",
    "    vec = weights[index]\n",
    "    vectors_file.write('\\t'.join([str(x) for x in vec]) + \"\\n\")\n",
    "    metadata_file.write(word + \"\\n\")\n",
    "\n",
    "vectors_file.close()\n",
    "metadata_file.close()"
   ]
  },
  {
   "cell_type": "code",
   "execution_count": null,
   "metadata": {},
   "outputs": [],
   "source": []
  }
 ],
 "metadata": {
  "interpreter": {
   "hash": "b25c72524e0bc61a78b3d6a2df84de3adaea47dfccaeebc487f09611983c18d9"
  },
  "kernelspec": {
   "display_name": "Python 3.8.10 64-bit ('mlp': conda)",
   "name": "python3"
  },
  "language_info": {
   "codemirror_mode": {
    "name": "ipython",
    "version": 3
   },
   "file_extension": ".py",
   "mimetype": "text/x-python",
   "name": "python",
   "nbconvert_exporter": "python",
   "pygments_lexer": "ipython3",
   "version": "3.8.10"
  },
  "orig_nbformat": 4
 },
 "nbformat": 4,
 "nbformat_minor": 2
}
